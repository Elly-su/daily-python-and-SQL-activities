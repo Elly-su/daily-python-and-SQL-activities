{
 "cells": [
  {
   "cell_type": "code",
   "execution_count": 2,
   "id": "408a13ea",
   "metadata": {},
   "outputs": [
    {
     "name": "stdout",
     "output_type": "stream",
     "text": [
      "dict_keys(['brand', 'model', 'year'])\n",
      "dict_keys(['brand', 'model', 'year', 'color'])\n",
      "5\n",
      "i\n"
     ]
    }
   ],
   "source": [
    "car = {\"brand\":\"ford\",\"model\": \"mustang\",\"year\":1964,\n",
    "            } \n",
    "x = car.keys()\n",
    "print(x)\n",
    "car[\"color\"] = \"white\"\n",
    "print(x)\n",
    "print(len(car['color']))\n",
    "print(car['color'][2])"
   ]
  },
  {
   "cell_type": "code",
   "execution_count": null,
   "id": "9ea09615",
   "metadata": {},
   "outputs": [
    {
     "name": "stdout",
     "output_type": "stream",
     "text": [
      "wambui\n",
      "wambui\n",
      "['lyza', 'simiyu', 'Wetende', 'wambui', 'eric']\n"
     ]
    }
   ],
   "source": [
    "name=['lyza','simiyu','Wetende','wambui','eric']\n",
    "print(name[3])\n",
    "print(name[-2])\n",
    "print(name[0:])"
   ]
  },
  {
   "cell_type": "code",
   "execution_count": 16,
   "id": "5d83908f",
   "metadata": {},
   "outputs": [
    {
     "data": {
      "text/plain": [
       "['lyza',\n",
       " 'simiyu',\n",
       " 'Wetende',\n",
       " 'wambui',\n",
       " 'eric',\n",
       " ['Eli', 'Waitherero'],\n",
       " ['Eli', 'Waitherero'],\n",
       " ['Eli', 'Waitherero'],\n",
       " 'Eli']"
      ]
     },
     "execution_count": 16,
     "metadata": {},
     "output_type": "execute_result"
    }
   ],
   "source": [
    "x= name.append('Eli')\n",
    "name"
   ]
  },
  {
   "cell_type": "code",
   "execution_count": 19,
   "id": "c4fde470",
   "metadata": {},
   "outputs": [
    {
     "data": {
      "text/plain": [
       "['Eli', 'Waitherero']"
      ]
     },
     "execution_count": 19,
     "metadata": {},
     "output_type": "execute_result"
    }
   ],
   "source": [
    "y= name[1:3]\n",
    "y\n",
    "name[-2]"
   ]
  },
  {
   "cell_type": "code",
   "execution_count": 20,
   "id": "513fe4da",
   "metadata": {},
   "outputs": [
    {
     "data": {
      "text/plain": [
       "13"
      ]
     },
     "execution_count": 20,
     "metadata": {},
     "output_type": "execute_result"
    }
   ],
   "source": [
    "def add (a,b):\n",
    "    return a+b\n",
    "add(10,3)\n"
   ]
  },
  {
   "cell_type": "code",
   "execution_count": 24,
   "id": "7e051970",
   "metadata": {},
   "outputs": [
    {
     "name": "stdout",
     "output_type": "stream",
     "text": [
      "Hello Lux\n"
     ]
    }
   ],
   "source": [
    "def greetings ():\n",
    "    print(\"Hello Lux\")\n",
    "greetings()"
   ]
  },
  {
   "cell_type": "code",
   "execution_count": 26,
   "id": "9a6264f0",
   "metadata": {},
   "outputs": [
    {
     "data": {
      "text/plain": [
       "str"
      ]
     },
     "execution_count": 26,
     "metadata": {},
     "output_type": "execute_result"
    }
   ],
   "source": [
    "a = 10\n",
    "type(a)\n",
    "type(str(a))"
   ]
  },
  {
   "cell_type": "code",
   "execution_count": 30,
   "id": "b8ed06b3",
   "metadata": {},
   "outputs": [
    {
     "name": "stdout",
     "output_type": "stream",
     "text": [
      "My name is Elly\n"
     ]
    }
   ],
   "source": [
    "name = input(\"Enter name\")\n",
    "print(f\"My name is {name}\")"
   ]
  }
 ],
 "metadata": {
  "kernelspec": {
   "display_name": "Python 3",
   "language": "python",
   "name": "python3"
  },
  "language_info": {
   "codemirror_mode": {
    "name": "ipython",
    "version": 3
   },
   "file_extension": ".py",
   "mimetype": "text/x-python",
   "name": "python",
   "nbconvert_exporter": "python",
   "pygments_lexer": "ipython3",
   "version": "3.13.3"
  }
 },
 "nbformat": 4,
 "nbformat_minor": 5
}
