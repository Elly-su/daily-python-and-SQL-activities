{
 "cells": [
  {
   "cell_type": "code",
   "execution_count": 3,
   "id": "10cf5fb1",
   "metadata": {},
   "outputs": [],
   "source": [
    "import pandas as pd"
   ]
  },
  {
   "cell_type": "markdown",
   "id": "e0639780",
   "metadata": {},
   "source": [
    "Creating the dataframe"
   ]
  },
  {
   "cell_type": "code",
   "execution_count": 5,
   "id": "0521d764",
   "metadata": {},
   "outputs": [
    {
     "data": {
      "text/html": [
       "<div>\n",
       "<style scoped>\n",
       "    .dataframe tbody tr th:only-of-type {\n",
       "        vertical-align: middle;\n",
       "    }\n",
       "\n",
       "    .dataframe tbody tr th {\n",
       "        vertical-align: top;\n",
       "    }\n",
       "\n",
       "    .dataframe thead th {\n",
       "        text-align: right;\n",
       "    }\n",
       "</style>\n",
       "<table border=\"1\" class=\"dataframe\">\n",
       "  <thead>\n",
       "    <tr style=\"text-align: right;\">\n",
       "      <th></th>\n",
       "      <th>Name</th>\n",
       "      <th>Age</th>\n",
       "      <th>City</th>\n",
       "    </tr>\n",
       "  </thead>\n",
       "  <tbody>\n",
       "    <tr>\n",
       "      <th>0</th>\n",
       "      <td>John</td>\n",
       "      <td>28</td>\n",
       "      <td>New York</td>\n",
       "    </tr>\n",
       "    <tr>\n",
       "      <th>1</th>\n",
       "      <td>Anna</td>\n",
       "      <td>24</td>\n",
       "      <td>Paris</td>\n",
       "    </tr>\n",
       "    <tr>\n",
       "      <th>2</th>\n",
       "      <td>Peter</td>\n",
       "      <td>35</td>\n",
       "      <td>Berlin</td>\n",
       "    </tr>\n",
       "    <tr>\n",
       "      <th>3</th>\n",
       "      <td>Linda</td>\n",
       "      <td>32</td>\n",
       "      <td>London</td>\n",
       "    </tr>\n",
       "  </tbody>\n",
       "</table>\n",
       "</div>"
      ],
      "text/plain": [
       "    Name  Age      City\n",
       "0   John   28  New York\n",
       "1   Anna   24     Paris\n",
       "2  Peter   35    Berlin\n",
       "3  Linda   32    London"
      ]
     },
     "execution_count": 5,
     "metadata": {},
     "output_type": "execute_result"
    }
   ],
   "source": [
    "# Create a DataFrame\n",
    "data = {'Name': ['John', 'Anna', 'Peter', 'Linda'],\n",
    "        'Age': [28, 24, 35, 32],\n",
    "        'City': ['New York', 'Paris', 'Berlin', 'London']}\n",
    "df = pd.DataFrame(data)\n",
    "\n",
    "# Create a Series\n",
    "age_series = pd.Series([28, 24, 35, 32], name=\"Age\")\n",
    "df.head()"
   ]
  },
  {
   "cell_type": "markdown",
   "id": "e2fe6e6f",
   "metadata": {},
   "source": [
    "Indexing and Selecting Data:"
   ]
  },
  {
   "cell_type": "code",
   "execution_count": 6,
   "id": "3c880ef0",
   "metadata": {},
   "outputs": [
    {
     "name": "stdout",
     "output_type": "stream",
     "text": [
      "Name     Anna\n",
      "Age        24\n",
      "City    Paris\n",
      "Name: 1, dtype: object\n",
      "Name     Anna\n",
      "Age        24\n",
      "City    Paris\n",
      "Name: 1, dtype: object\n",
      "0     John\n",
      "1     Anna\n",
      "2    Peter\n",
      "3    Linda\n",
      "Name: Name, dtype: object\n",
      "28\n"
     ]
    }
   ],
   "source": [
    "# Accessing rows using .loc[] and .iloc[]\n",
    "print(df.loc[1])  # Row with index 1 (uses label-based indexing)\n",
    "print(df.iloc[1]) # Row at position 1 (uses positional indexing)\n",
    "\n",
    "# Accessing specific data\n",
    "print(df['Name']) # Accessing a single column\n",
    "print(df.loc[0, 'Age']) # Accessing specific value (row 0, column 'Age')\n"
   ]
  },
  {
   "cell_type": "markdown",
   "id": "18aeedba",
   "metadata": {},
   "source": [
    "Handling Missing Data:"
   ]
  },
  {
   "cell_type": "code",
   "execution_count": 8,
   "id": "db6bd11e",
   "metadata": {},
   "outputs": [],
   "source": [
    "# Create a DataFrame with missing data\n",
    "data = {'Name': ['John', 'Anna', 'Peter', None],\n",
    "        'Age': [28, None, 35, 32],\n",
    "        'City': ['New York', 'Paris', 'Berlin', 'London']}\n",
    "df = pd.DataFrame(data)\n",
    "\n"
   ]
  },
  {
   "cell_type": "code",
   "execution_count": 9,
   "id": "0bdde73c",
   "metadata": {},
   "outputs": [
    {
     "name": "stdout",
     "output_type": "stream",
     "text": [
      "    Name    Age   City\n",
      "0  False  False  False\n",
      "1  False   True  False\n",
      "2  False  False  False\n",
      "3   True  False  False\n"
     ]
    }
   ],
   "source": [
    "\n",
    "# Checking for missing values\n",
    "print(df.isnull())"
   ]
  },
  {
   "cell_type": "code",
   "execution_count": 10,
   "id": "22d66ea4",
   "metadata": {},
   "outputs": [],
   "source": [
    "# Drop rows with any missing data\n",
    "df_cleaned = df.dropna()"
   ]
  },
  {
   "cell_type": "code",
   "execution_count": 11,
   "id": "d028e318",
   "metadata": {},
   "outputs": [
    {
     "name": "stdout",
     "output_type": "stream",
     "text": [
      "    Name   Age      City\n",
      "0   John  28.0  New York\n",
      "2  Peter  35.0    Berlin\n"
     ]
    }
   ],
   "source": [
    "\n",
    "# Fill missing values with a specific value\n",
    "df_filled = df.fillna({'Name': 'Unknown', 'Age': df['Age'].mean()})\n",
    "print(df_cleaned)"
   ]
  },
  {
   "cell_type": "markdown",
   "id": "418ac41b",
   "metadata": {},
   "source": [
    "Renaming Columns:"
   ]
  },
  {
   "cell_type": "code",
   "execution_count": 13,
   "id": "6e7edaa4",
   "metadata": {},
   "outputs": [
    {
     "name": "stdout",
     "output_type": "stream",
     "text": [
      "  Full Name   Age  Location\n",
      "0      John  28.0  New York\n",
      "1      Anna   NaN     Paris\n",
      "2     Peter  35.0    Berlin\n",
      "3      None  32.0    London\n"
     ]
    }
   ],
   "source": [
    "df.rename(columns={'Name': 'Full Name', 'City': 'Location'}, inplace=True)\n",
    "print(df)\n"
   ]
  },
  {
   "cell_type": "markdown",
   "id": "de9a58ad",
   "metadata": {},
   "source": [
    "3. Operations\n",
    "Arithmetic Operations:"
   ]
  },
  {
   "cell_type": "code",
   "execution_count": 14,
   "id": "9f3eb594",
   "metadata": {},
   "outputs": [
    {
     "name": "stdout",
     "output_type": "stream",
     "text": [
      "  Full Name   Age  Location  Age Next Year\n",
      "0      John  28.0  New York           29.0\n",
      "1      Anna   NaN     Paris            NaN\n",
      "2     Peter  35.0    Berlin           36.0\n",
      "3      None  32.0    London           33.0\n"
     ]
    }
   ],
   "source": [
    "# Adding a new column based on an existing one\n",
    "df['Age Next Year'] = df['Age'] + 1\n",
    "print(df)"
   ]
  },
  {
   "cell_type": "markdown",
   "id": "a0f5f9d9",
   "metadata": {},
   "source": [
    "Aggregation:"
   ]
  },
  {
   "cell_type": "code",
   "execution_count": 15,
   "id": "b2a95d46",
   "metadata": {},
   "outputs": [
    {
     "name": "stdout",
     "output_type": "stream",
     "text": [
      "95.0\n",
      "31.666666666666668\n",
      "28.0\n",
      "35.0\n"
     ]
    }
   ],
   "source": [
    "# Summing up Age column\n",
    "print(df['Age'].sum())\n",
    "\n",
    "# Mean, min, and max for Age\n",
    "print(df['Age'].mean())\n",
    "print(df['Age'].min())\n",
    "print(df['Age'].max())\n"
   ]
  },
  {
   "cell_type": "markdown",
   "id": "3023a176",
   "metadata": {},
   "source": [
    "GroupBy:"
   ]
  },
  {
   "cell_type": "code",
   "execution_count": 16,
   "id": "cda11064",
   "metadata": {},
   "outputs": [
    {
     "name": "stdout",
     "output_type": "stream",
     "text": [
      "Location\n",
      "Berlin      35.0\n",
      "London      32.0\n",
      "New York    28.0\n",
      "Paris        NaN\n",
      "Name: Age, dtype: float64\n"
     ]
    }
   ],
   "source": [
    "# Group by a column (e.g., City) and calculate the mean of Age\n",
    "grouped = df.groupby('Location')['Age'].mean()\n",
    "print(grouped)\n"
   ]
  },
  {
   "cell_type": "markdown",
   "id": "3acb0b36",
   "metadata": {},
   "source": [
    "4. Merging and Joining\n",
    "Merging DataFrames:"
   ]
  },
  {
   "cell_type": "code",
   "execution_count": 17,
   "id": "ed0bcca6",
   "metadata": {},
   "outputs": [
    {
     "name": "stdout",
     "output_type": "stream",
     "text": [
      "   ID   Name  Age\n",
      "0   1   John   28\n",
      "1   2   Anna   24\n",
      "2   3  Peter   35\n"
     ]
    }
   ],
   "source": [
    "# Create two DataFrames\n",
    "df1 = pd.DataFrame({'ID': [1, 2, 3], 'Name': ['John', 'Anna', 'Peter']})\n",
    "df2 = pd.DataFrame({'ID': [1, 2, 3], 'Age': [28, 24, 35]})\n",
    "\n",
    "# Merge on 'ID' column\n",
    "merged_df = pd.merge(df1, df2, on='ID')\n",
    "print(merged_df)\n"
   ]
  },
  {
   "cell_type": "markdown",
   "id": "3f9ced43",
   "metadata": {},
   "source": [
    "Concatenating DataFrames:"
   ]
  },
  {
   "cell_type": "code",
   "execution_count": 18,
   "id": "19002897",
   "metadata": {},
   "outputs": [
    {
     "name": "stdout",
     "output_type": "stream",
     "text": [
      "   ID   Name\n",
      "0   1   John\n",
      "1   2   Anna\n",
      "2   3  Peter\n",
      "3   4  Linda\n"
     ]
    }
   ],
   "source": [
    "# Concatenating DataFrames vertically\n",
    "df1 = pd.DataFrame({'ID': [1, 2], 'Name': ['John', 'Anna']})\n",
    "df2 = pd.DataFrame({'ID': [3, 4], 'Name': ['Peter', 'Linda']})\n",
    "\n",
    "concatenated_df = pd.concat([df1, df2], ignore_index=True)\n",
    "print(concatenated_df)"
   ]
  },
  {
   "cell_type": "markdown",
   "id": "dbaa57f9",
   "metadata": {},
   "source": [
    "5. Filtering and Slicing\n",
    "Filtering:"
   ]
  },
  {
   "cell_type": "code",
   "execution_count": 19,
   "id": "778b912a",
   "metadata": {},
   "outputs": [
    {
     "name": "stdout",
     "output_type": "stream",
     "text": [
      "  Full Name   Age Location  Age Next Year\n",
      "2     Peter  35.0   Berlin           36.0\n",
      "3      None  32.0   London           33.0\n"
     ]
    }
   ],
   "source": [
    "# Filter rows where Age is greater than 30\n",
    "filtered_df = df[df['Age'] > 30]\n",
    "print(filtered_df)\n"
   ]
  },
  {
   "cell_type": "markdown",
   "id": "9a74bdaa",
   "metadata": {},
   "source": [
    "Slicing:"
   ]
  },
  {
   "cell_type": "code",
   "execution_count": 20,
   "id": "ecfb9f2b",
   "metadata": {},
   "outputs": [
    {
     "name": "stdout",
     "output_type": "stream",
     "text": [
      "  Full Name   Age\n",
      "1      Anna   NaN\n",
      "2     Peter  35.0\n"
     ]
    }
   ],
   "source": [
    "# Select specific rows and columns\n",
    "sliced_df = df.iloc[1:3, 0:2]  # Rows 1 and 2, Columns 0 and 1\n",
    "print(sliced_df)\n"
   ]
  },
  {
   "cell_type": "markdown",
   "id": "6ba9797f",
   "metadata": {},
   "source": [
    "6. Sorting\n",
    "Sorting by Values:"
   ]
  },
  {
   "cell_type": "code",
   "execution_count": 21,
   "id": "988b45dd",
   "metadata": {},
   "outputs": [
    {
     "name": "stdout",
     "output_type": "stream",
     "text": [
      "  Full Name   Age  Location  Age Next Year\n",
      "0      John  28.0  New York           29.0\n",
      "3      None  32.0    London           33.0\n",
      "2     Peter  35.0    Berlin           36.0\n",
      "1      Anna   NaN     Paris            NaN\n",
      "  Full Name   Age  Location  Age Next Year\n",
      "2     Peter  35.0    Berlin           36.0\n",
      "3      None  32.0    London           33.0\n",
      "0      John  28.0  New York           29.0\n",
      "1      Anna   NaN     Paris            NaN\n"
     ]
    }
   ],
   "source": [
    "# Sort by Age in ascending order\n",
    "sorted_df = df.sort_values(by='Age')\n",
    "print(sorted_df)\n",
    "\n",
    "# Sort by Age in descending order\n",
    "sorted_desc_df = df.sort_values(by='Age', ascending=False)\n",
    "print(sorted_desc_df)\n"
   ]
  },
  {
   "cell_type": "markdown",
   "id": "8ecf8d30",
   "metadata": {},
   "source": [
    "Sorting by Index:"
   ]
  },
  {
   "cell_type": "code",
   "execution_count": 22,
   "id": "59837f8b",
   "metadata": {},
   "outputs": [
    {
     "name": "stdout",
     "output_type": "stream",
     "text": [
      "  Full Name   Age  Location  Age Next Year\n",
      "0      John  28.0  New York           29.0\n",
      "1      Anna   NaN     Paris            NaN\n",
      "2     Peter  35.0    Berlin           36.0\n",
      "3      None  32.0    London           33.0\n"
     ]
    }
   ],
   "source": [
    "# Sort by index\n",
    "df_sorted_by_index = df.sort_index()\n",
    "print(df_sorted_by_index)\n"
   ]
  },
  {
   "cell_type": "markdown",
   "id": "971c6cd5",
   "metadata": {},
   "source": [
    "7. Handling Dates\n",
    "DateTime Conversion:"
   ]
  },
  {
   "cell_type": "code",
   "execution_count": 23,
   "id": "0729cf43",
   "metadata": {},
   "outputs": [
    {
     "name": "stdout",
     "output_type": "stream",
     "text": [
      "  Full Name   Age  Location  Age Next Year       Date  Year  Month  Day\n",
      "0      John  28.0  New York           29.0 2025-01-01  2025      1    1\n",
      "1      Anna   NaN     Paris            NaN 2025-02-02  2025      2    2\n",
      "2     Peter  35.0    Berlin           36.0 2025-03-03  2025      3    3\n",
      "3      None  32.0    London           33.0 2025-04-04  2025      4    4\n"
     ]
    }
   ],
   "source": [
    "# Convert a column to datetime\n",
    "df['Date'] = pd.to_datetime(['2025-01-01', '2025-02-02', '2025-03-03', '2025-04-04'])\n",
    "\n",
    "# Extracting year, month, and day\n",
    "df['Year'] = df['Date'].dt.year\n",
    "df['Month'] = df['Date'].dt.month\n",
    "df['Day'] = df['Date'].dt.day\n",
    "print(df)\n"
   ]
  }
 ],
 "metadata": {
  "kernelspec": {
   "display_name": "Python 3",
   "language": "python",
   "name": "python3"
  },
  "language_info": {
   "codemirror_mode": {
    "name": "ipython",
    "version": 3
   },
   "file_extension": ".py",
   "mimetype": "text/x-python",
   "name": "python",
   "nbconvert_exporter": "python",
   "pygments_lexer": "ipython3",
   "version": "3.13.3"
  }
 },
 "nbformat": 4,
 "nbformat_minor": 5
}
